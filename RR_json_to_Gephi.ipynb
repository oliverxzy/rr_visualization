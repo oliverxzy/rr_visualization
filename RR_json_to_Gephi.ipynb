{
 "cells": [
  {
   "cell_type": "code",
   "execution_count": 1,
   "metadata": {},
   "outputs": [],
   "source": [
    "import pandas as pd\n",
    "import json"
   ]
  },
  {
   "cell_type": "code",
   "execution_count": 147,
   "metadata": {},
   "outputs": [],
   "source": [
    "df = json.load(open('Data_Science_database.json','r', encoding='UTF-8')) # 'Roam_brain.json' 修改成你自己的当前路径rr json文件名字"
   ]
  },
  {
   "cell_type": "code",
   "execution_count": 148,
   "metadata": {},
   "outputs": [],
   "source": [
    "df_str = []\n",
    "df_title = []\n",
    "for i in range(len(df)):\n",
    "    str_page = str(df[i].items())\n",
    "    df_str.append(str_page)\n",
    "    df_title.append(df[i]['title'])"
   ]
  },
  {
   "cell_type": "code",
   "execution_count": 150,
   "metadata": {},
   "outputs": [],
   "source": [
    "def find_link(page):\n",
    "    i = 0\n",
    "    j = 0\n",
    "    linked_list = []\n",
    "    # for i in range(len(example)):\n",
    "    while i < len(page):\n",
    "        if page.find('[[',i+1) != -1:\n",
    "            i = page.find('[[',i+1)\n",
    "            j = page.find(']]',j+1)\n",
    "            linked_list.append(page[i+2:j])\n",
    "        else:\n",
    "            i = len(page)\n",
    "    return linked_list"
   ]
  },
  {
   "cell_type": "code",
   "execution_count": 151,
   "metadata": {},
   "outputs": [],
   "source": [
    "df_link = []\n",
    "for page in df:\n",
    "#     str_page = str()\n",
    "    str_page = json.dumps(page)\n",
    "    df_link.append(find_link(str_page))"
   ]
  },
  {
   "cell_type": "code",
   "execution_count": 154,
   "metadata": {},
   "outputs": [],
   "source": [
    "df_tot = []\n",
    "for i in range(len(df_title)):\n",
    "    temp = []\n",
    "    temp.append(df_title[i])\n",
    "    for j in df_link[i]:\n",
    "        temp.append(j)\n",
    "    df_tot.append(temp)"
   ]
  },
  {
   "cell_type": "code",
   "execution_count": 155,
   "metadata": {},
   "outputs": [],
   "source": [
    "max_len = 0\n",
    "for i in df_tot:\n",
    "    if len(i) > max_len:\n",
    "        max_len = len(i)"
   ]
  },
  {
   "cell_type": "code",
   "execution_count": 156,
   "metadata": {},
   "outputs": [],
   "source": [
    "for i in range(len(df_tot)):\n",
    "    for j in range(max_len - len(df_tot[i])):\n",
    "        df_tot[i].append(None)"
   ]
  },
  {
   "cell_type": "code",
   "execution_count": 157,
   "metadata": {},
   "outputs": [],
   "source": [
    "data = pd.DataFrame(df_tot)"
   ]
  },
  {
   "cell_type": "code",
   "execution_count": 159,
   "metadata": {},
   "outputs": [],
   "source": [
    "data.to_csv('test.csv',header=None,index=None) #保存的文件名"
   ]
  },
  {
   "cell_type": "code",
   "execution_count": null,
   "metadata": {},
   "outputs": [],
   "source": []
  }
 ],
 "metadata": {
  "kernelspec": {
   "display_name": "Python 3",
   "language": "python",
   "name": "python3"
  },
  "language_info": {
   "codemirror_mode": {
    "name": "ipython",
    "version": 3
   },
   "file_extension": ".py",
   "mimetype": "text/x-python",
   "name": "python",
   "nbconvert_exporter": "python",
   "pygments_lexer": "ipython3",
   "version": "3.7.3"
  },
  "toc": {
   "base_numbering": 1,
   "nav_menu": {},
   "number_sections": true,
   "sideBar": true,
   "skip_h1_title": false,
   "title_cell": "Table of Contents",
   "title_sidebar": "Contents",
   "toc_cell": false,
   "toc_position": {},
   "toc_section_display": true,
   "toc_window_display": false
  }
 },
 "nbformat": 4,
 "nbformat_minor": 4
}
